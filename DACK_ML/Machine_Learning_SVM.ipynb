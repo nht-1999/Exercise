{
 "cells": [
  {
   "cell_type": "code",
   "execution_count": null,
   "metadata": {
    "colab": {
     "base_uri": "https://localhost:8080/",
     "height": 122
    },
    "id": "aGo7Upu8dFsW",
    "outputId": "b79790a2-2388-47bf-a48f-4477b8e973e5"
   },
   "outputs": [
    {
     "name": "stdout",
     "output_type": "stream",
     "text": [
      "Go to this URL in a browser: https://accounts.google.com/o/oauth2/auth?client_id=947318989803-6bn6qk8qdgf4n4g3pfee6491hc0brc4i.apps.googleusercontent.com&redirect_uri=urn%3aietf%3awg%3aoauth%3a2.0%3aoob&scope=email%20https%3a%2f%2fwww.googleapis.com%2fauth%2fdocs.test%20https%3a%2f%2fwww.googleapis.com%2fauth%2fdrive%20https%3a%2f%2fwww.googleapis.com%2fauth%2fdrive.photos.readonly%20https%3a%2f%2fwww.googleapis.com%2fauth%2fpeopleapi.readonly&response_type=code\n",
      "\n",
      "Enter your authorization code:\n",
      "··········\n",
      "Mounted at /content/drive\n"
     ]
    }
   ],
   "source": [
    "from google.colab import drive\n",
    "drive.mount('/content/drive')"
   ]
  },
  {
   "cell_type": "markdown",
   "metadata": {},
   "source": [
    "Data + Model Link: https://drive.google.com/drive/folders/1YOGb-exWa0ituhvjSQYzpEPs6YTDTpfp?usp=sharing"
   ]
  },
  {
   "cell_type": "code",
   "execution_count": null,
   "metadata": {
    "colab": {
     "base_uri": "https://localhost:8080/",
     "height": 72
    },
    "id": "tGuJbz3qSO0a",
    "outputId": "1dc33e5e-63e5-4f09-9278-5d1a6555e735"
   },
   "outputs": [
    {
     "name": "stderr",
     "output_type": "stream",
     "text": [
      "/usr/local/lib/python3.6/dist-packages/statsmodels/tools/_testing.py:19: FutureWarning: pandas.util.testing is deprecated. Use the functions in the public API at pandas.testing instead.\n",
      "  import pandas.util.testing as tm\n"
     ]
    }
   ],
   "source": [
    "import pandas as pd\n",
    "import numpy as np\n",
    "import sklearn\n",
    "import pickle\n",
    "import gzip\n",
    "import matplotlib.pyplot as plt\n",
    "import seaborn as sns\n",
    "from sklearn.model_selection import train_test_split\n",
    "from sklearn.svm import SVC\n",
    "import joblib\n",
    "import time"
   ]
  },
  {
   "cell_type": "code",
   "execution_count": null,
   "metadata": {
    "id": "qxxBl2syScc4"
   },
   "outputs": [],
   "source": [
    "def read_mnist(mnist_file):\n",
    "    \"\"\"\n",
    "    Reads MNIST data.\n",
    "    \n",
    "    Parameters\n",
    "    ----------\n",
    "    mnist_file : string\n",
    "        The name of the MNIST file (e.g., 'mnist.pkl.gz').\n",
    "    \n",
    "    Returns\n",
    "    -------\n",
    "    (train_X, train_Y, val_X, val_Y, test_X, test_Y) : tuple\n",
    "        train_X : numpy array, shape (N=50000, d=784)\n",
    "            Input vectors of the training set.\n",
    "        train_Y: numpy array, shape (N=50000)\n",
    "            Outputs of the training set.\n",
    "        val_X : numpy array, shape (N=10000, d=784)\n",
    "            Input vectors of the validation set.\n",
    "        val_Y: numpy array, shape (N=10000)\n",
    "            Outputs of the validation set.\n",
    "        test_X : numpy array, shape (N=10000, d=784)\n",
    "            Input vectors of the test set.\n",
    "        test_Y: numpy array, shape (N=10000)\n",
    "            Outputs of the test set.\n",
    "    \"\"\"\n",
    "    f = gzip.open(mnist_file, 'rb')\n",
    "    train_data, val_data, test_data = pickle.load(f, encoding='latin1')\n",
    "    f.close()\n",
    "    \n",
    "    train_X, train_Y = train_data\n",
    "    val_X, val_Y = val_data\n",
    "    test_X, test_Y = test_data    \n",
    "    \n",
    "    return train_X, train_Y, val_X, val_Y, test_X, test_Y\n"
   ]
  },
  {
   "cell_type": "code",
   "execution_count": null,
   "metadata": {
    "colab": {
     "base_uri": "https://localhost:8080/",
     "height": 173
    },
    "id": "n6F0pzZsUve5",
    "outputId": "1c0b8332-e741-4abb-e99c-34c61f911b43"
   },
   "outputs": [
    {
     "name": "stdout",
     "output_type": "stream",
     "text": [
      "X_train.shape = (50000, 784)\n",
      "Y_train.shape = (50000,)\n",
      "X_val.shape   = (10000, 784)\n",
      "Y_val.shape   = (10000,)\n",
      "X_test.shape  = (10000, 784)\n",
      "Y_test.shape  = (10000,)\n",
      "\n",
      "train_X: min = 0.000, max = 0.996\n",
      "train_Y: min = 0, max = 9\n"
     ]
    }
   ],
   "source": [
    "X_train,Y_train,X_val,Y_val,X_test,Y_test=read_mnist('/content/drive/My Drive/DataMachine/mnist.pkl.gz')\n",
    "print('X_train.shape =', X_train.shape)\n",
    "print('Y_train.shape =', Y_train.shape)\n",
    "print('X_val.shape   =', X_val.shape)\n",
    "print('Y_val.shape   =', Y_val.shape)\n",
    "print('X_test.shape  =', X_test.shape)\n",
    "print('Y_test.shape  =', Y_test.shape)\n",
    "\n",
    "print('\\ntrain_X: min = %.3f, max = %.3f' %(X_train.min(), X_train.max()))\n",
    "print('train_Y: min = %d, max = %d' %(Y_train.min(), Y_train.max()))"
   ]
  },
  {
   "cell_type": "code",
   "execution_count": null,
   "metadata": {
    "colab": {
     "base_uri": "https://localhost:8080/",
     "height": 283
    },
    "id": "kS4yzYJjU_zN",
    "outputId": "25bb5194-f039-4853-e222-899012536c67"
   },
   "outputs": [
    {
     "name": "stdout",
     "output_type": "stream",
     "text": [
      "Label:  1\n"
     ]
    },
    {
     "data": {
      "image/png": "[encoded data removed]",
      "text/plain": [
       "<Figure size 432x288 with 1 Axes>"
      ]
     },
     "metadata": {
      "needs_background": "light",
      "tags": []
     },
     "output_type": "display_data"
    }
   ],
   "source": [
    "imgplot = plt.imshow(X_train[6].reshape(28,28),cmap=plt.cm.binary)\n",
    "print(\"Label: \",Y_train[6])"
   ]
  },
  {
   "cell_type": "code",
   "execution_count": null,
   "metadata": {
    "colab": {
     "base_uri": "https://localhost:8080/",
     "height": 283
    },
    "id": "4jIiD097WLN0",
    "outputId": "f7ec27b7-1d31-416d-b725-b019089f5cf1"
   },
   "outputs": [
    {
     "data": {
      "text/plain": [
       "<matplotlib.axes._subplots.AxesSubplot at 0x7f9f79222668>"
      ]
     },
     "execution_count": 6,
     "metadata": {
      "tags": []
     },
     "output_type": "execute_result"
    },
    {
     "data": {
      "image/png": "[encoded data removed]",
      "text/plain": [
       "<Figure size 432x288 with 1 Axes>"
      ]
     },
     "metadata": {
      "needs_background": "light",
      "tags": []
     },
     "output_type": "display_data"
    }
   ],
   "source": [
    "sns.countplot(Y_train)"
   ]
  },
  {
   "cell_type": "code",
   "execution_count": null,
   "metadata": {
    "colab": {
     "base_uri": "https://localhost:8080/",
     "height": 208
    },
    "id": "yj6NbHTnXm-t",
    "outputId": "276d4cd6-9cce-4b77-e16f-5f2486ca3d25"
   },
   "outputs": [
    {
     "data": {
      "text/plain": [
       "1    5678\n",
       "7    5175\n",
       "3    5101\n",
       "9    4988\n",
       "2    4968\n",
       "6    4951\n",
       "0    4932\n",
       "4    4859\n",
       "8    4842\n",
       "5    4506\n",
       "dtype: int64"
      ]
     },
     "execution_count": 7,
     "metadata": {
      "tags": []
     },
     "output_type": "execute_result"
    }
   ],
   "source": [
    "pd.Series(Y_train).value_counts()"
   ]
  },
  {
   "cell_type": "markdown",
   "metadata": {
    "id": "xwK6C9aPAlOc"
   },
   "source": [
    "# TRAIN DATA "
   ]
  },
  {
   "cell_type": "markdown",
   "metadata": {
    "id": "Tzmp_JQAAphA"
   },
   "source": [
    "Do google giới hạn thời gian train nên việc train thường xuyên bị ngắt quãng giữa chửng  \n",
    "Ngoài ra có thêm 1 file notebook train song song với file này để tiết kiệm thời gian\n",
    "Tổng thời gian train khoảng 24 tiếng"
   ]
  },
  {
   "cell_type": "code",
   "execution_count": null,
   "metadata": {
    "id": "h3z0g6dkbL3k"
   },
   "outputs": [],
   "source": [
    "def Linear_kernel(_X_train,_Y_train):\n",
    "  c=[100,10,1,0.1,0.01,0.001,0.0001]\n",
    "  for i in c:\n",
    "    start = time.time()\n",
    "    model_linear = SVC(kernel='linear',C=i)\n",
    "    model_linear.fit(_X_train,_Y_train)\n",
    "    end = time.time()\n",
    "    print(\"Time \",end - start)\n",
    "    joblib_file = \"/content/drive/My Drive/DataMachine/linear_kernel_C_\"+str(i)+\".pkl\"\n",
    "    joblib.dump(model_linear, joblib_file)"
   ]
  },
  {
   "cell_type": "code",
   "execution_count": null,
   "metadata": {
    "colab": {
     "base_uri": "https://localhost:8080/",
     "height": 139
    },
    "id": "84XAVhO68cE3",
    "outputId": "10a6c7d6-f161-49d8-c6b9-b566098c9bbb"
   },
   "outputs": [
    {
     "name": "stdout",
     "output_type": "stream",
     "text": [
      "Time  1212.0563306808472\n",
      "Time  517.5177102088928\n",
      "Time  366.62897396087646\n",
      "Time  302.0274746417999\n",
      "Time  412.9103512763977\n",
      "Time  864.7143754959106\n",
      "Time  2304.864190340042\n"
     ]
    }
   ],
   "source": [
    "Linear_kernel(X_train,Y_train)"
   ]
  },
  {
   "cell_type": "code",
   "execution_count": null,
   "metadata": {
    "id": "yK5nAp5X1va_"
   },
   "outputs": [],
   "source": [
    "def RBF_Kernel(_X_train,_Y_train):\n",
    "  c=[100,10,1,0.1]\n",
    "  Gamma=[1e-1,1e-2, 1e-3, 1e-4]\n",
    "  for i in c:\n",
    "    for j in Gamma:\n",
    "      start = time.time()\n",
    "      model_linear = SVC(kernel='rbf',C=i,gamma=j)\n",
    "      model_linear.fit(_X_train,_Y_train)\n",
    "      end = time.time()\n",
    "      print(\"Time \",end - start)\n",
    "      joblib_file = \"/content/drive/My Drive/DataMachine/rbf_kernel_C_\"+str(i)+\"K_\"+str(j)+\".pkl\"\n",
    "      joblib.dump(model_linear, joblib_file)"
   ]
  },
  {
   "cell_type": "code",
   "execution_count": null,
   "metadata": {
    "colab": {
     "base_uri": "https://localhost:8080/",
     "height": 243
    },
    "id": "3VR87cGlACFE",
    "outputId": "20e5d667-bfde-4224-fce8-b947d5d4eb0c"
   },
   "outputs": [
    {
     "name": "stdout",
     "output_type": "stream",
     "text": [
      "Time  6848.775426149368\n",
      "Time  314.3105716705322\n",
      "Time  286.980211019516\n",
      "Time  370.11609649658203\n",
      "Time  6907.456472635269\n",
      "Time  319.39032769203186\n",
      "Time  364.9302091598511\n",
      "Time  703.6077663898468\n",
      "Time  6502.42505812645\n",
      "Time  377.3051495552063\n",
      "Time  690.7759168148041\n",
      "Time  1691.8298819065094\n",
      "Time  4276.374215126038\n"
     ]
    }
   ],
   "source": [
    "RBF_Kernel(X_train,Y_train)"
   ]
  },
  {
   "cell_type": "code",
   "execution_count": null,
   "metadata": {
    "id": "ihMeHxzCP291"
   },
   "outputs": [],
   "source": [
    "def RBF_Kernel(_X_train,_Y_train):\n",
    "  c=[0.1]\n",
    "  Gamma=[1e-2, 1e-3, 1e-4]\n",
    "  for i in c:\n",
    "    for j in Gamma:\n",
    "      start = time.time()\n",
    "      model_linear = SVC(kernel='rbf',C=i,gamma=j)\n",
    "      model_linear.fit(_X_train,_Y_train)\n",
    "      end = time.time()\n",
    "      print(\"Time \",end - start)\n",
    "      joblib_file = \"/content/drive/My Drive/DataMachine/rbf_kernel_C_\"+str(i)+\"K_\"+str(j)+\".pkl\"\n",
    "      joblib.dump(model_linear, joblib_file)"
   ]
  },
  {
   "cell_type": "code",
   "execution_count": null,
   "metadata": {
    "colab": {
     "base_uri": "https://localhost:8080/",
     "height": 70
    },
    "id": "Z9oytlLqP3EJ",
    "outputId": "4bcde96f-0d5e-44f0-ba21-0005c6575d80"
   },
   "outputs": [
    {
     "name": "stdout",
     "output_type": "stream",
     "text": [
      "Time  860.2259774208069\n",
      "Time  1781.629934310913\n",
      "Time  4404.558419704437\n"
     ]
    }
   ],
   "source": [
    "RBF_Kernel(X_train,Y_train)"
   ]
  },
  {
   "cell_type": "code",
   "execution_count": null,
   "metadata": {
    "id": "kIAEqVsVP3Je"
   },
   "outputs": [],
   "source": [
    "def RBF_Kernel(_X_train,_Y_train):\n",
    "  c=[0.0001]\n",
    "  Gamma=[1e-3,1e-4]\n",
    "  for i in c:\n",
    "    for j in Gamma:\n",
    "      start = time.time()\n",
    "      model_linear = SVC(kernel='rbf',C=i,gamma=j)\n",
    "      model_linear.fit(_X_train,_Y_train)\n",
    "      end = time.time()\n",
    "      print(\"Time \",end - start)\n",
    "      joblib_file = \"/content/drive/My Drive/DataMachine/rbf_kernel_C_\"+str(i)+\"K_\"+str(j)+\".pkl\"\n",
    "      joblib.dump(model_linear, joblib_file)"
   ]
  },
  {
   "cell_type": "code",
   "execution_count": null,
   "metadata": {
    "colab": {
     "base_uri": "https://localhost:8080/",
     "height": 52
    },
    "id": "9Gp5yoMjP3N3",
    "outputId": "c90a1935-23b8-4e77-ba26-4716f71477a2"
   },
   "outputs": [
    {
     "name": "stdout",
     "output_type": "stream",
     "text": [
      "Time  5562.965136051178\n",
      "Time  5626.627184391022\n"
     ]
    }
   ],
   "source": [
    "RBF_Kernel(X_train,Y_train)"
   ]
  },
  {
   "cell_type": "code",
   "execution_count": null,
   "metadata": {
    "id": "GWsd8UqSnzyg"
   },
   "outputs": [],
   "source": [
    "def RBF_Kernel(_X_train,_Y_train):\n",
    "  c=[100,10,1,0.1,0.01,0.001,0.0001]\n",
    "  Gamma=[1]\n",
    "  for i in c:\n",
    "    for j in Gamma:\n",
    "      start = time.time()\n",
    "      model_linear = SVC(kernel='rbf',C=i,gamma=j)\n",
    "      model_linear.fit(_X_train,_Y_train)\n",
    "      end = time.time()\n",
    "      print(\"Time \",end - start)\n",
    "      joblib_file = \"/content/drive/My Drive/DataMachine/rbf_kernel_C_\"+str(i)+\"K_\"+str(j)+\".pkl\"\n",
    "      joblib.dump(model_linear, joblib_file)"
   ]
  },
  {
   "cell_type": "code",
   "execution_count": null,
   "metadata": {
    "id": "k6-RC1Dfn8mh"
   },
   "outputs": [],
   "source": [
    "RBF_Kernel(X_train,Y_train)"
   ]
  },
  {
   "cell_type": "markdown",
   "metadata": {
    "id": "CvmagJ5nBUzG"
   },
   "source": [
    "# Test model\n",
    "Do model được lưu khá nặng tầm 200-300 MB/tệp  \n",
    "Có tổng cộng 33 tệp. Do đó việc test cũng được chia ra chung với file train kia để tránh mất thêm nhiều thời gian.  \n",
    "Tổng thời gian test là 22 tiếng."
   ]
  },
  {
   "cell_type": "code",
   "execution_count": null,
   "metadata": {
    "colab": {
     "base_uri": "https://localhost:8080/",
     "height": 621
    },
    "id": "LLJJ34JJYOll",
    "outputId": "29e79985-9f3a-4600-9a60-d5611c46e283"
   },
   "outputs": [
    {
     "name": "stdout",
     "output_type": "stream",
     "text": [
      "Score: X_train  rbf_kernel_C_100K_0.1.pkl  1.0\n",
      "Score: X_val  rbf_kernel_C_100K_0.1.pkl  0.9566\n",
      "Score: X_train  rbf_kernel_C_100K_0.01.pkl  1.0\n",
      "Score: X_val  rbf_kernel_C_100K_0.01.pkl  0.9832\n",
      "Score: X_train  rbf_kernel_C_100K_0.001.pkl  0.99058\n",
      "Score: X_val  rbf_kernel_C_100K_0.001.pkl  0.9718\n",
      "Score: X_train  rbf_kernel_C_100K_0.0001.pkl  0.95016\n",
      "Score: X_val  rbf_kernel_C_100K_0.0001.pkl  0.9476\n",
      "Score: X_train  rbf_kernel_C_10K_0.1.pkl  1.0\n",
      "Score: X_val  rbf_kernel_C_10K_0.1.pkl  0.9566\n",
      "Score: X_train  rbf_kernel_C_10K_0.01.pkl  0.99942\n",
      "Score: X_val  rbf_kernel_C_10K_0.01.pkl  0.9835\n",
      "Score: X_train  rbf_kernel_C_10K_0.001.pkl  0.96206\n",
      "Score: X_val  rbf_kernel_C_10K_0.001.pkl  0.9592\n",
      "Score: X_train  rbf_kernel_C_10K_0.0001.pkl  0.93136\n",
      "Score: X_val  rbf_kernel_C_10K_0.0001.pkl  0.9369\n",
      "Score: X_train  rbf_kernel_C_1K_0.1.pkl  0.99996\n",
      "Score: X_val  rbf_kernel_C_1K_0.1.pkl  0.9552\n",
      "Score: X_train  rbf_kernel_C_1K_0.01.pkl  0.98474\n",
      "Score: X_val  rbf_kernel_C_1K_0.01.pkl  0.9777\n",
      "Score: X_train  rbf_kernel_C_1K_0.001.pkl  0.93578\n",
      "Score: X_val  rbf_kernel_C_1K_0.001.pkl  0.9411\n",
      "Score: X_train  rbf_kernel_C_1K_0.0001.pkl  0.9003\n",
      "Score: X_val  rbf_kernel_C_1K_0.0001.pkl  0.9121\n",
      "Score: X_train  rbf_kernel_C_0.1K_0.1.pkl  0.71048\n",
      "Score: X_val  rbf_kernel_C_0.1K_0.1.pkl  0.6875\n",
      "Score: X_train  rbf_kernel_C_0.1K_0.01.pkl  0.95298\n",
      "Score: X_val  rbf_kernel_C_0.1K_0.01.pkl  0.9578\n",
      "Score: X_train  rbf_kernel_C_0.1K_0.001.pkl  0.90176\n",
      "Score: X_val  rbf_kernel_C_0.1K_0.001.pkl  0.9139\n",
      "Score: X_train  rbf_kernel_C_0.1K_0.0001.pkl  0.76342\n",
      "Score: X_val  rbf_kernel_C_0.1K_0.0001.pkl  0.7895\n",
      "Score: X_train  rbf_kernel_C_0.01K_0.1.pkl  0.2157\n",
      "Score: X_val  rbf_kernel_C_0.01K_0.1.pkl  0.2172\n"
     ]
    }
   ],
   "source": [
    "#load model\n",
    "c=[100,10,1,0.1,0.01,0.001,0.0001]\n",
    "Gamma=[1e-1,1e-2, 1e-3, 1e-4]\n",
    "for i in c:\n",
    "  for j in Gamma:\n",
    "    joblib_file = \"/content/drive/My Drive/DataMachine/rbf_kernel_C_\"+str(i)+\"K_\"+str(j)+\".pkl\"\n",
    "    name_file=\"rbf_kernel_C_\"+str(i)+\"K_\"+str(j)+\".pkl \"\n",
    "    joblib_model = joblib.load(joblib_file)\n",
    "    score = joblib_model.score(X_train, Y_train)\n",
    "    print(\"Score: X_train \",name_file , score)\n",
    "    score = joblib_model.score(X_val, Y_val)\n",
    "    print(\"Score: X_val \",name_file , score)"
   ]
  },
  {
   "cell_type": "code",
   "execution_count": null,
   "metadata": {
    "colab": {
     "base_uri": "https://localhost:8080/",
     "height": 121
    },
    "id": "KZgnoNeV9iDI",
    "outputId": "0aec0279-513c-4b36-ae87-9ae3860a9933"
   },
   "outputs": [
    {
     "name": "stdout",
     "output_type": "stream",
     "text": [
      "Score: X_train  rbf_kernel_C_0.01K_0.01.pkl  0.9061\n",
      "Score: X_val  rbf_kernel_C_0.01K_0.01.pkl  0.9178\n",
      "Score: X_train  rbf_kernel_C_0.01K_0.001.pkl  0.74626\n",
      "Score: X_val  rbf_kernel_C_0.01K_0.001.pkl  0.7721\n",
      "Score: X_train  rbf_kernel_C_0.01K_0.0001.pkl  0.11356\n",
      "Score: X_val  rbf_kernel_C_0.01K_0.0001.pkl  0.1064\n"
     ]
    }
   ],
   "source": [
    "#load model\n",
    "c=[0.01]\n",
    "Gamma=[1e-2, 1e-3, 1e-4]\n",
    "for i in c:\n",
    "  for j in Gamma:\n",
    "    joblib_file = \"/content/drive/My Drive/DataMachine/rbf_kernel_C_\"+str(i)+\"K_\"+str(j)+\".pkl\"\n",
    "    name_file=\"rbf_kernel_C_\"+str(i)+\"K_\"+str(j)+\".pkl \"\n",
    "    joblib_model = joblib.load(joblib_file)\n",
    "    score = joblib_model.score(X_train, Y_train)\n",
    "    print(\"Score: X_train \",name_file , score)\n",
    "    score = joblib_model.score(X_val, Y_val)\n",
    "    print(\"Score: X_val \",name_file , score)"
   ]
  },
  {
   "cell_type": "code",
   "execution_count": null,
   "metadata": {
    "colab": {
     "base_uri": "https://localhost:8080/",
     "height": 52
    },
    "id": "tockox05_uti",
    "outputId": "33db9409-2434-468a-e1ef-328ed24c7420"
   },
   "outputs": [
    {
     "name": "stdout",
     "output_type": "stream",
     "text": [
      "Score: X_train  rbf_kernel_C_0.001K_0.1.pkl  0.11356\n",
      "Score: X_val  rbf_kernel_C_0.001K_0.1.pkl  0.1064\n"
     ]
    }
   ],
   "source": [
    "#load model\n",
    "c=[0.001]\n",
    "Gamma=[1e-1,1e-2, 1e-3, 1e-4]\n",
    "for i in c:\n",
    "  for j in Gamma:\n",
    "    joblib_file = \"/content/drive/My Drive/DataMachine/rbf_kernel_C_\"+str(i)+\"K_\"+str(j)+\".pkl\"\n",
    "    name_file=\"rbf_kernel_C_\"+str(i)+\"K_\"+str(j)+\".pkl \"\n",
    "    joblib_model = joblib.load(joblib_file)\n",
    "    score = joblib_model.score(X_train, Y_train)\n",
    "    print(\"Score: X_train \",name_file , score)\n",
    "    score = joblib_model.score(X_val, Y_val)\n",
    "    print(\"Score: X_val \",name_file , score)"
   ]
  },
  {
   "cell_type": "code",
   "execution_count": null,
   "metadata": {
    "colab": {
     "base_uri": "https://localhost:8080/",
     "height": 212
    },
    "id": "jWHzn2RWYxJZ",
    "outputId": "c706e307-44e5-4f47-8a67-59b64639fae5"
   },
   "outputs": [
    {
     "name": "stdout",
     "output_type": "stream",
     "text": [
      "Score: X_train  linear_kernel_C_100.pkl 0.987\n",
      "Score: X_val  linear_kernel_C_100.pkl 0.9223\n",
      "Score: X_train  linear_kernel_C_10.pkl 0.98308\n",
      "Score: X_val  linear_kernel_C_10.pkl 0.9284\n",
      "Score: X_train  linear_kernel_C_1.pkl 0.97246\n",
      "Score: X_val  linear_kernel_C_1.pkl 0.9423\n",
      "Score: X_train  linear_kernel_C_0.1.pkl 0.95812\n",
      "Score: X_val  linear_kernel_C_0.1.pkl 0.9481\n",
      "Score: X_train  linear_kernel_C_0.01.pkl 0.94406\n",
      "Score: X_val  linear_kernel_C_0.01.pkl 0.9437\n",
      "Score: X_train  linear_kernel_C_0.001.pkl 0.9239\n"
     ]
    }
   ],
   "source": [
    "#load model\n",
    "c=[100,10,1,0.1,0.01,0.001,0.0001]\n",
    "for i in c:\n",
    "    joblib_file = \"/content/drive/My Drive/DataMachine/linear_kernel_C_\"+str(i)+\".pkl\"\n",
    "    name_file=\"linear_kernel_C_\"+str(i)+\".pkl\"\n",
    "    joblib_model = joblib.load(joblib_file)\n",
    "    score = joblib_model.score(X_train, Y_train)\n",
    "    print(\"Score: X_train \",name_file , score)\n",
    "    score = joblib_model.score(X_val, Y_val)\n",
    "    print(\"Score: X_val \",name_file , score)"
   ]
  },
  {
   "cell_type": "code",
   "execution_count": null,
   "metadata": {
    "colab": {
     "base_uri": "https://localhost:8080/",
     "height": 87
    },
    "id": "3PJBigSSV8Xd",
    "outputId": "6e67cd03-d79b-4cb1-fad0-6d6d9a60a7fb"
   },
   "outputs": [
    {
     "name": "stdout",
     "output_type": "stream",
     "text": [
      "Score: X_train  linear_kernel_C_0.001.pkl 0.9239\n",
      "Score: X_val  linear_kernel_C_0.001.pkl 0.9309\n",
      "Score: X_train  linear_kernel_C_0.0001.pkl 0.88388\n",
      "Score: X_val  linear_kernel_C_0.0001.pkl 0.8971\n"
     ]
    }
   ],
   "source": [
    "#load model\n",
    "c=[0.001,0.0001]\n",
    "for i in c:\n",
    "    joblib_file = \"/content/drive/My Drive/DataMachine/linear_kernel_C_\"+str(i)+\".pkl\"\n",
    "    name_file=\"linear_kernel_C_\"+str(i)+\".pkl\"\n",
    "    joblib_model = joblib.load(joblib_file)\n",
    "    score = joblib_model.score(X_train, Y_train)\n",
    "    print(\"Score: X_train \",name_file , score)\n",
    "    score = joblib_model.score(X_val, Y_val)\n",
    "    print(\"Score: X_val \",name_file , score)"
   ]
  },
  {
   "cell_type": "markdown",
   "metadata": {
    "id": "CqqlLxNLDwwG"
   },
   "source": [
    "# Tính hàm dự đoán cuối cùng"
   ]
  },
  {
   "cell_type": "markdown",
   "metadata": {
    "id": "aCQn0QvvFe83"
   },
   "source": [
    "Linear"
   ]
  },
  {
   "cell_type": "code",
   "execution_count": null,
   "metadata": {
    "colab": {
     "base_uri": "https://localhost:8080/",
     "height": 35
    },
    "id": "1pRKaZbwEvUy",
    "outputId": "346b121c-3952-4625-9022-a933b489682c"
   },
   "outputs": [
    {
     "name": "stdout",
     "output_type": "stream",
     "text": [
      "Score: X_Test  linear_kernel_C_0.1.pkl 0.9463\n"
     ]
    }
   ],
   "source": [
    "#load model\n",
    "c=[0.1]\n",
    "for i in c:\n",
    "    joblib_file = \"/content/drive/My Drive/DataMachine/linear_kernel_C_\"+str(i)+\".pkl\"\n",
    "    name_file=\"linear_kernel_C_\"+str(i)+\".pkl\"\n",
    "    joblib_model = joblib.load(joblib_file)\n",
    "    score = joblib_model.score(X_test, Y_test)\n",
    "    print(\"Score: X_Test \",name_file , score)"
   ]
  },
  {
   "cell_type": "markdown",
   "metadata": {
    "id": "RP4nM4cTFk29"
   },
   "source": [
    "RBF Kernel"
   ]
  },
  {
   "cell_type": "code",
   "execution_count": null,
   "metadata": {
    "colab": {
     "base_uri": "https://localhost:8080/",
     "height": 35
    },
    "id": "xr6DoAz6EHOE",
    "outputId": "8e583ca7-c2d1-4469-8e2c-1e5d52914278"
   },
   "outputs": [
    {
     "name": "stdout",
     "output_type": "stream",
     "text": [
      "Score: X_train  rbf_kernel_C_10K_0.01.pkl  0.982\n"
     ]
    }
   ],
   "source": [
    "#load model\n",
    "c=[10]\n",
    "Gamma=[1e-2]\n",
    "for i in c:\n",
    "  for j in Gamma:\n",
    "    joblib_file = \"/content/drive/My Drive/DataMachine/rbf_kernel_C_\"+str(i)+\"K_\"+str(j)+\".pkl\"\n",
    "    name_file=\"rbf_kernel_C_\"+str(i)+\"K_\"+str(j)+\".pkl \"\n",
    "    joblib_model = joblib.load(joblib_file)\n",
    "    score = joblib_model.score(X_test, Y_test)\n",
    "    print(\"Score: X_train \",name_file , score)"
   ]
  }
 ],
 "metadata": {
  "accelerator": "GPU",
  "colab": {
   "collapsed_sections": [],
   "name": "Machine_Learning_SVM",
   "provenance": []
  },
  "kernelspec": {
   "display_name": "Python 3",
   "language": "python",
   "name": "python3"
  },
  "language_info": {
   "codemirror_mode": {
    "name": "ipython",
    "version": 3
   },
   "file_extension": ".py",
   "mimetype": "text/x-python",
   "name": "python",
   "nbconvert_exporter": "python",
   "pygments_lexer": "ipython3",
   "version": "3.7.4"
  }
 },
 "nbformat": 4,
 "nbformat_minor": 4
}
