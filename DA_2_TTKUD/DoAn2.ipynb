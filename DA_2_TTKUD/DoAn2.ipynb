{
 "cells": [
  {
   "cell_type": "code",
   "execution_count": 6,
   "metadata": {},
   "outputs": [],
   "source": [
    "import numpy as np\n",
    "import pandas as pd\n",
    "import seaborn as sns\n",
    "from scipy import stats\n",
    "import matplotlib.pyplot as plt\n",
    "\n",
    "import statsmodels.api as sm\n",
    "from statsmodels.stats import diagnostic as diag\n",
    "from statsmodels.stats.outliers_influence import variance_inflation_factor\n",
    "\n",
    "from sklearn.linear_model import LogisticRegression\n",
    "from sklearn.model_selection import train_test_split,GridSearchCV\n",
    "from sklearn.metrics import mean_squared_error, r2_score, mean_absolute_error\n",
    "from sklearn.preprocessing import  StandardScaler,MinMaxScaler\n",
    "import joblib\n",
    "from sklearn.metrics import confusion_matrix,classification_report\n",
    "\n",
    "import warnings\n",
    "warnings.filterwarnings(\"ignore\")"
   ]
  },
  {
   "cell_type": "markdown",
   "metadata": {},
   "source": [
    "### Phân công công việc\n",
    "1. 1712489 Đỗ Bĩnh Huy : 40% (Đồ án 2)\n",
    "1. 1712609 Đỗ Thị Kim Ngân : 30% (Đồ án 2)\n",
    "1. 1712756 Nguyễn Hữu Thắng : 30% (Đồ án 2)"
   ]
  },
  {
   "cell_type": "markdown",
   "metadata": {},
   "source": [
    "Tải dữ liệu tại link: https://drive.google.com/drive/folders/1nj4R5Vb649oVFda05G4AyoOmIRx6PXAR?usp=sharing"
   ]
  },
  {
   "cell_type": "markdown",
   "metadata": {},
   "source": [
    "# Đọc dữ liệu và xem thông tin"
   ]
  },
  {
   "cell_type": "code",
   "execution_count": 7,
   "metadata": {},
   "outputs": [
    {
     "data": {
      "text/html": [
       "<div>\n",
       "<style scoped>\n",
       "    .dataframe tbody tr th:only-of-type {\n",
       "        vertical-align: middle;\n",
       "    }\n",
       "\n",
       "    .dataframe tbody tr th {\n",
       "        vertical-align: top;\n",
       "    }\n",
       "\n",
       "    .dataframe thead th {\n",
       "        text-align: right;\n",
       "    }\n",
       "</style>\n",
       "<table border=\"1\" class=\"dataframe\">\n",
       "  <thead>\n",
       "    <tr style=\"text-align: right;\">\n",
       "      <th></th>\n",
       "      <th>label</th>\n",
       "      <th>pixel1</th>\n",
       "      <th>pixel2</th>\n",
       "      <th>pixel3</th>\n",
       "      <th>pixel4</th>\n",
       "      <th>pixel5</th>\n",
       "      <th>pixel6</th>\n",
       "      <th>pixel7</th>\n",
       "      <th>pixel8</th>\n",
       "      <th>pixel9</th>\n",
       "      <th>...</th>\n",
       "      <th>pixel775</th>\n",
       "      <th>pixel776</th>\n",
       "      <th>pixel777</th>\n",
       "      <th>pixel778</th>\n",
       "      <th>pixel779</th>\n",
       "      <th>pixel780</th>\n",
       "      <th>pixel781</th>\n",
       "      <th>pixel782</th>\n",
       "      <th>pixel783</th>\n",
       "      <th>pixel784</th>\n",
       "    </tr>\n",
       "  </thead>\n",
       "  <tbody>\n",
       "    <tr>\n",
       "      <td>0</td>\n",
       "      <td>16</td>\n",
       "      <td>123</td>\n",
       "      <td>124</td>\n",
       "      <td>128</td>\n",
       "      <td>133</td>\n",
       "      <td>137</td>\n",
       "      <td>143</td>\n",
       "      <td>147</td>\n",
       "      <td>151</td>\n",
       "      <td>156</td>\n",
       "      <td>...</td>\n",
       "      <td>16</td>\n",
       "      <td>17</td>\n",
       "      <td>17</td>\n",
       "      <td>17</td>\n",
       "      <td>13</td>\n",
       "      <td>38</td>\n",
       "      <td>212</td>\n",
       "      <td>219</td>\n",
       "      <td>218</td>\n",
       "      <td>219</td>\n",
       "    </tr>\n",
       "    <tr>\n",
       "      <td>1</td>\n",
       "      <td>0</td>\n",
       "      <td>141</td>\n",
       "      <td>142</td>\n",
       "      <td>143</td>\n",
       "      <td>145</td>\n",
       "      <td>147</td>\n",
       "      <td>149</td>\n",
       "      <td>150</td>\n",
       "      <td>151</td>\n",
       "      <td>151</td>\n",
       "      <td>...</td>\n",
       "      <td>180</td>\n",
       "      <td>179</td>\n",
       "      <td>180</td>\n",
       "      <td>180</td>\n",
       "      <td>181</td>\n",
       "      <td>181</td>\n",
       "      <td>182</td>\n",
       "      <td>182</td>\n",
       "      <td>182</td>\n",
       "      <td>184</td>\n",
       "    </tr>\n",
       "    <tr>\n",
       "      <td>2</td>\n",
       "      <td>8</td>\n",
       "      <td>217</td>\n",
       "      <td>218</td>\n",
       "      <td>218</td>\n",
       "      <td>218</td>\n",
       "      <td>218</td>\n",
       "      <td>218</td>\n",
       "      <td>217</td>\n",
       "      <td>218</td>\n",
       "      <td>217</td>\n",
       "      <td>...</td>\n",
       "      <td>239</td>\n",
       "      <td>241</td>\n",
       "      <td>239</td>\n",
       "      <td>239</td>\n",
       "      <td>237</td>\n",
       "      <td>235</td>\n",
       "      <td>233</td>\n",
       "      <td>232</td>\n",
       "      <td>231</td>\n",
       "      <td>228</td>\n",
       "    </tr>\n",
       "    <tr>\n",
       "      <td>3</td>\n",
       "      <td>4</td>\n",
       "      <td>214</td>\n",
       "      <td>215</td>\n",
       "      <td>217</td>\n",
       "      <td>216</td>\n",
       "      <td>217</td>\n",
       "      <td>217</td>\n",
       "      <td>218</td>\n",
       "      <td>218</td>\n",
       "      <td>220</td>\n",
       "      <td>...</td>\n",
       "      <td>74</td>\n",
       "      <td>233</td>\n",
       "      <td>255</td>\n",
       "      <td>255</td>\n",
       "      <td>255</td>\n",
       "      <td>255</td>\n",
       "      <td>255</td>\n",
       "      <td>255</td>\n",
       "      <td>255</td>\n",
       "      <td>255</td>\n",
       "    </tr>\n",
       "    <tr>\n",
       "      <td>4</td>\n",
       "      <td>10</td>\n",
       "      <td>134</td>\n",
       "      <td>137</td>\n",
       "      <td>140</td>\n",
       "      <td>142</td>\n",
       "      <td>144</td>\n",
       "      <td>145</td>\n",
       "      <td>145</td>\n",
       "      <td>147</td>\n",
       "      <td>148</td>\n",
       "      <td>...</td>\n",
       "      <td>213</td>\n",
       "      <td>210</td>\n",
       "      <td>211</td>\n",
       "      <td>211</td>\n",
       "      <td>211</td>\n",
       "      <td>209</td>\n",
       "      <td>208</td>\n",
       "      <td>208</td>\n",
       "      <td>208</td>\n",
       "      <td>207</td>\n",
       "    </tr>\n",
       "    <tr>\n",
       "      <td>5</td>\n",
       "      <td>20</td>\n",
       "      <td>132</td>\n",
       "      <td>136</td>\n",
       "      <td>139</td>\n",
       "      <td>143</td>\n",
       "      <td>147</td>\n",
       "      <td>148</td>\n",
       "      <td>150</td>\n",
       "      <td>153</td>\n",
       "      <td>155</td>\n",
       "      <td>...</td>\n",
       "      <td>134</td>\n",
       "      <td>139</td>\n",
       "      <td>105</td>\n",
       "      <td>65</td>\n",
       "      <td>127</td>\n",
       "      <td>229</td>\n",
       "      <td>219</td>\n",
       "      <td>221</td>\n",
       "      <td>221</td>\n",
       "      <td>221</td>\n",
       "    </tr>\n",
       "    <tr>\n",
       "      <td>6</td>\n",
       "      <td>13</td>\n",
       "      <td>163</td>\n",
       "      <td>169</td>\n",
       "      <td>174</td>\n",
       "      <td>178</td>\n",
       "      <td>181</td>\n",
       "      <td>182</td>\n",
       "      <td>185</td>\n",
       "      <td>189</td>\n",
       "      <td>191</td>\n",
       "      <td>...</td>\n",
       "      <td>54</td>\n",
       "      <td>47</td>\n",
       "      <td>200</td>\n",
       "      <td>219</td>\n",
       "      <td>213</td>\n",
       "      <td>215</td>\n",
       "      <td>212</td>\n",
       "      <td>211</td>\n",
       "      <td>209</td>\n",
       "      <td>209</td>\n",
       "    </tr>\n",
       "    <tr>\n",
       "      <td>7</td>\n",
       "      <td>24</td>\n",
       "      <td>170</td>\n",
       "      <td>172</td>\n",
       "      <td>173</td>\n",
       "      <td>175</td>\n",
       "      <td>175</td>\n",
       "      <td>176</td>\n",
       "      <td>176</td>\n",
       "      <td>178</td>\n",
       "      <td>178</td>\n",
       "      <td>...</td>\n",
       "      <td>89</td>\n",
       "      <td>221</td>\n",
       "      <td>214</td>\n",
       "      <td>217</td>\n",
       "      <td>207</td>\n",
       "      <td>163</td>\n",
       "      <td>128</td>\n",
       "      <td>99</td>\n",
       "      <td>91</td>\n",
       "      <td>86</td>\n",
       "    </tr>\n",
       "    <tr>\n",
       "      <td>8</td>\n",
       "      <td>14</td>\n",
       "      <td>189</td>\n",
       "      <td>189</td>\n",
       "      <td>189</td>\n",
       "      <td>191</td>\n",
       "      <td>192</td>\n",
       "      <td>192</td>\n",
       "      <td>191</td>\n",
       "      <td>191</td>\n",
       "      <td>191</td>\n",
       "      <td>...</td>\n",
       "      <td>128</td>\n",
       "      <td>132</td>\n",
       "      <td>136</td>\n",
       "      <td>137</td>\n",
       "      <td>140</td>\n",
       "      <td>151</td>\n",
       "      <td>169</td>\n",
       "      <td>184</td>\n",
       "      <td>193</td>\n",
       "      <td>201</td>\n",
       "    </tr>\n",
       "    <tr>\n",
       "      <td>9</td>\n",
       "      <td>21</td>\n",
       "      <td>147</td>\n",
       "      <td>149</td>\n",
       "      <td>150</td>\n",
       "      <td>152</td>\n",
       "      <td>155</td>\n",
       "      <td>156</td>\n",
       "      <td>156</td>\n",
       "      <td>157</td>\n",
       "      <td>157</td>\n",
       "      <td>...</td>\n",
       "      <td>90</td>\n",
       "      <td>58</td>\n",
       "      <td>96</td>\n",
       "      <td>178</td>\n",
       "      <td>166</td>\n",
       "      <td>166</td>\n",
       "      <td>164</td>\n",
       "      <td>164</td>\n",
       "      <td>162</td>\n",
       "      <td>159</td>\n",
       "    </tr>\n",
       "  </tbody>\n",
       "</table>\n",
       "<p>10 rows × 785 columns</p>\n",
       "</div>"
      ],
      "text/plain": [
       "   label  pixel1  pixel2  pixel3  pixel4  pixel5  pixel6  pixel7  pixel8  \\\n",
       "0     16     123     124     128     133     137     143     147     151   \n",
       "1      0     141     142     143     145     147     149     150     151   \n",
       "2      8     217     218     218     218     218     218     217     218   \n",
       "3      4     214     215     217     216     217     217     218     218   \n",
       "4     10     134     137     140     142     144     145     145     147   \n",
       "5     20     132     136     139     143     147     148     150     153   \n",
       "6     13     163     169     174     178     181     182     185     189   \n",
       "7     24     170     172     173     175     175     176     176     178   \n",
       "8     14     189     189     189     191     192     192     191     191   \n",
       "9     21     147     149     150     152     155     156     156     157   \n",
       "\n",
       "   pixel9  ...  pixel775  pixel776  pixel777  pixel778  pixel779  pixel780  \\\n",
       "0     156  ...        16        17        17        17        13        38   \n",
       "1     151  ...       180       179       180       180       181       181   \n",
       "2     217  ...       239       241       239       239       237       235   \n",
       "3     220  ...        74       233       255       255       255       255   \n",
       "4     148  ...       213       210       211       211       211       209   \n",
       "5     155  ...       134       139       105        65       127       229   \n",
       "6     191  ...        54        47       200       219       213       215   \n",
       "7     178  ...        89       221       214       217       207       163   \n",
       "8     191  ...       128       132       136       137       140       151   \n",
       "9     157  ...        90        58        96       178       166       166   \n",
       "\n",
       "   pixel781  pixel782  pixel783  pixel784  \n",
       "0       212       219       218       219  \n",
       "1       182       182       182       184  \n",
       "2       233       232       231       228  \n",
       "3       255       255       255       255  \n",
       "4       208       208       208       207  \n",
       "5       219       221       221       221  \n",
       "6       212       211       209       209  \n",
       "7       128        99        91        86  \n",
       "8       169       184       193       201  \n",
       "9       164       164       162       159  \n",
       "\n",
       "[10 rows x 785 columns]"
      ]
     },
     "execution_count": 7,
     "metadata": {},
     "output_type": "execute_result"
    }
   ],
   "source": [
    "df_train = pd.read_csv('train.csv')\n",
    "df_train.head(10)"
   ]
  },
  {
   "cell_type": "code",
   "execution_count": 8,
   "metadata": {},
   "outputs": [
    {
     "name": "stdout",
     "output_type": "stream",
     "text": [
      "<class 'pandas.core.frame.DataFrame'>\n",
      "RangeIndex: 27000 entries, 0 to 26999\n",
      "Columns: 785 entries, label to pixel784\n",
      "dtypes: int64(785)\n",
      "memory usage: 161.7 MB\n"
     ]
    },
    {
     "data": {
      "text/html": [
       "<div>\n",
       "<style scoped>\n",
       "    .dataframe tbody tr th:only-of-type {\n",
       "        vertical-align: middle;\n",
       "    }\n",
       "\n",
       "    .dataframe tbody tr th {\n",
       "        vertical-align: top;\n",
       "    }\n",
       "\n",
       "    .dataframe thead th {\n",
       "        text-align: right;\n",
       "    }\n",
       "</style>\n",
       "<table border=\"1\" class=\"dataframe\">\n",
       "  <thead>\n",
       "    <tr style=\"text-align: right;\">\n",
       "      <th></th>\n",
       "      <th>label</th>\n",
       "      <th>pixel1</th>\n",
       "      <th>pixel2</th>\n",
       "      <th>pixel3</th>\n",
       "      <th>pixel4</th>\n",
       "      <th>pixel5</th>\n",
       "      <th>pixel6</th>\n",
       "      <th>pixel7</th>\n",
       "      <th>pixel8</th>\n",
       "      <th>pixel9</th>\n",
       "      <th>...</th>\n",
       "      <th>pixel775</th>\n",
       "      <th>pixel776</th>\n",
       "      <th>pixel777</th>\n",
       "      <th>pixel778</th>\n",
       "      <th>pixel779</th>\n",
       "      <th>pixel780</th>\n",
       "      <th>pixel781</th>\n",
       "      <th>pixel782</th>\n",
       "      <th>pixel783</th>\n",
       "      <th>pixel784</th>\n",
       "    </tr>\n",
       "  </thead>\n",
       "  <tbody>\n",
       "    <tr>\n",
       "      <td>count</td>\n",
       "      <td>27000.000000</td>\n",
       "      <td>27000.000000</td>\n",
       "      <td>27000.000000</td>\n",
       "      <td>27000.000000</td>\n",
       "      <td>27000.000000</td>\n",
       "      <td>27000.000000</td>\n",
       "      <td>27000.000000</td>\n",
       "      <td>27000.000000</td>\n",
       "      <td>27000.000000</td>\n",
       "      <td>27000.000000</td>\n",
       "      <td>...</td>\n",
       "      <td>27000.000000</td>\n",
       "      <td>27000.000000</td>\n",
       "      <td>27000.000000</td>\n",
       "      <td>27000.000000</td>\n",
       "      <td>27000.000000</td>\n",
       "      <td>27000.000000</td>\n",
       "      <td>27000.000000</td>\n",
       "      <td>27000.000000</td>\n",
       "      <td>27000.000000</td>\n",
       "      <td>27000.000000</td>\n",
       "    </tr>\n",
       "    <tr>\n",
       "      <td>mean</td>\n",
       "      <td>12.313111</td>\n",
       "      <td>145.405593</td>\n",
       "      <td>148.488963</td>\n",
       "      <td>151.239444</td>\n",
       "      <td>153.553444</td>\n",
       "      <td>156.212074</td>\n",
       "      <td>158.414444</td>\n",
       "      <td>160.487000</td>\n",
       "      <td>162.348370</td>\n",
       "      <td>163.968852</td>\n",
       "      <td>...</td>\n",
       "      <td>141.132333</td>\n",
       "      <td>147.493667</td>\n",
       "      <td>153.330444</td>\n",
       "      <td>159.113037</td>\n",
       "      <td>161.951370</td>\n",
       "      <td>162.723148</td>\n",
       "      <td>162.884481</td>\n",
       "      <td>161.946407</td>\n",
       "      <td>161.138037</td>\n",
       "      <td>159.838444</td>\n",
       "    </tr>\n",
       "    <tr>\n",
       "      <td>std</td>\n",
       "      <td>7.289435</td>\n",
       "      <td>41.365893</td>\n",
       "      <td>39.953754</td>\n",
       "      <td>39.062139</td>\n",
       "      <td>38.585382</td>\n",
       "      <td>37.120041</td>\n",
       "      <td>36.137760</td>\n",
       "      <td>35.001018</td>\n",
       "      <td>33.662693</td>\n",
       "      <td>32.646610</td>\n",
       "      <td>...</td>\n",
       "      <td>63.749579</td>\n",
       "      <td>65.511692</td>\n",
       "      <td>64.424009</td>\n",
       "      <td>63.741503</td>\n",
       "      <td>63.758663</td>\n",
       "      <td>63.475755</td>\n",
       "      <td>63.540967</td>\n",
       "      <td>63.336766</td>\n",
       "      <td>63.625567</td>\n",
       "      <td>64.408869</td>\n",
       "    </tr>\n",
       "    <tr>\n",
       "      <td>min</td>\n",
       "      <td>0.000000</td>\n",
       "      <td>0.000000</td>\n",
       "      <td>0.000000</td>\n",
       "      <td>0.000000</td>\n",
       "      <td>0.000000</td>\n",
       "      <td>0.000000</td>\n",
       "      <td>0.000000</td>\n",
       "      <td>0.000000</td>\n",
       "      <td>0.000000</td>\n",
       "      <td>0.000000</td>\n",
       "      <td>...</td>\n",
       "      <td>0.000000</td>\n",
       "      <td>0.000000</td>\n",
       "      <td>0.000000</td>\n",
       "      <td>0.000000</td>\n",
       "      <td>0.000000</td>\n",
       "      <td>0.000000</td>\n",
       "      <td>0.000000</td>\n",
       "      <td>0.000000</td>\n",
       "      <td>0.000000</td>\n",
       "      <td>0.000000</td>\n",
       "    </tr>\n",
       "    <tr>\n",
       "      <td>25%</td>\n",
       "      <td>6.000000</td>\n",
       "      <td>121.000000</td>\n",
       "      <td>126.000000</td>\n",
       "      <td>130.000000</td>\n",
       "      <td>133.000000</td>\n",
       "      <td>137.000000</td>\n",
       "      <td>140.000000</td>\n",
       "      <td>142.000000</td>\n",
       "      <td>144.000000</td>\n",
       "      <td>146.000000</td>\n",
       "      <td>...</td>\n",
       "      <td>92.000000</td>\n",
       "      <td>95.000000</td>\n",
       "      <td>103.000000</td>\n",
       "      <td>112.000000</td>\n",
       "      <td>120.000000</td>\n",
       "      <td>125.000000</td>\n",
       "      <td>128.000000</td>\n",
       "      <td>127.000000</td>\n",
       "      <td>128.000000</td>\n",
       "      <td>126.000000</td>\n",
       "    </tr>\n",
       "    <tr>\n",
       "      <td>50%</td>\n",
       "      <td>13.000000</td>\n",
       "      <td>150.000000</td>\n",
       "      <td>153.000000</td>\n",
       "      <td>156.000000</td>\n",
       "      <td>158.000000</td>\n",
       "      <td>160.000000</td>\n",
       "      <td>162.000000</td>\n",
       "      <td>164.000000</td>\n",
       "      <td>165.000000</td>\n",
       "      <td>166.000000</td>\n",
       "      <td>...</td>\n",
       "      <td>144.000000</td>\n",
       "      <td>162.000000</td>\n",
       "      <td>172.000000</td>\n",
       "      <td>180.000000</td>\n",
       "      <td>183.000000</td>\n",
       "      <td>184.000000</td>\n",
       "      <td>184.000000</td>\n",
       "      <td>182.000000</td>\n",
       "      <td>182.000000</td>\n",
       "      <td>182.000000</td>\n",
       "    </tr>\n",
       "    <tr>\n",
       "      <td>75%</td>\n",
       "      <td>19.000000</td>\n",
       "      <td>174.000000</td>\n",
       "      <td>176.000000</td>\n",
       "      <td>178.000000</td>\n",
       "      <td>179.000000</td>\n",
       "      <td>181.000000</td>\n",
       "      <td>182.000000</td>\n",
       "      <td>183.000000</td>\n",
       "      <td>184.000000</td>\n",
       "      <td>185.000000</td>\n",
       "      <td>...</td>\n",
       "      <td>196.000000</td>\n",
       "      <td>202.000000</td>\n",
       "      <td>205.000000</td>\n",
       "      <td>207.000000</td>\n",
       "      <td>208.000000</td>\n",
       "      <td>207.000000</td>\n",
       "      <td>207.000000</td>\n",
       "      <td>206.000000</td>\n",
       "      <td>204.000000</td>\n",
       "      <td>204.000000</td>\n",
       "    </tr>\n",
       "    <tr>\n",
       "      <td>max</td>\n",
       "      <td>24.000000</td>\n",
       "      <td>255.000000</td>\n",
       "      <td>255.000000</td>\n",
       "      <td>255.000000</td>\n",
       "      <td>255.000000</td>\n",
       "      <td>255.000000</td>\n",
       "      <td>255.000000</td>\n",
       "      <td>255.000000</td>\n",
       "      <td>255.000000</td>\n",
       "      <td>255.000000</td>\n",
       "      <td>...</td>\n",
       "      <td>255.000000</td>\n",
       "      <td>255.000000</td>\n",
       "      <td>255.000000</td>\n",
       "      <td>255.000000</td>\n",
       "      <td>255.000000</td>\n",
       "      <td>255.000000</td>\n",
       "      <td>255.000000</td>\n",
       "      <td>255.000000</td>\n",
       "      <td>255.000000</td>\n",
       "      <td>255.000000</td>\n",
       "    </tr>\n",
       "  </tbody>\n",
       "</table>\n",
       "<p>8 rows × 785 columns</p>\n",
       "</div>"
      ],
      "text/plain": [
       "              label        pixel1        pixel2        pixel3        pixel4  \\\n",
       "count  27000.000000  27000.000000  27000.000000  27000.000000  27000.000000   \n",
       "mean      12.313111    145.405593    148.488963    151.239444    153.553444   \n",
       "std        7.289435     41.365893     39.953754     39.062139     38.585382   \n",
       "min        0.000000      0.000000      0.000000      0.000000      0.000000   \n",
       "25%        6.000000    121.000000    126.000000    130.000000    133.000000   \n",
       "50%       13.000000    150.000000    153.000000    156.000000    158.000000   \n",
       "75%       19.000000    174.000000    176.000000    178.000000    179.000000   \n",
       "max       24.000000    255.000000    255.000000    255.000000    255.000000   \n",
       "\n",
       "             pixel5        pixel6        pixel7        pixel8        pixel9  \\\n",
       "count  27000.000000  27000.000000  27000.000000  27000.000000  27000.000000   \n",
       "mean     156.212074    158.414444    160.487000    162.348370    163.968852   \n",
       "std       37.120041     36.137760     35.001018     33.662693     32.646610   \n",
       "min        0.000000      0.000000      0.000000      0.000000      0.000000   \n",
       "25%      137.000000    140.000000    142.000000    144.000000    146.000000   \n",
       "50%      160.000000    162.000000    164.000000    165.000000    166.000000   \n",
       "75%      181.000000    182.000000    183.000000    184.000000    185.000000   \n",
       "max      255.000000    255.000000    255.000000    255.000000    255.000000   \n",
       "\n",
       "       ...      pixel775      pixel776      pixel777      pixel778  \\\n",
       "count  ...  27000.000000  27000.000000  27000.000000  27000.000000   \n",
       "mean   ...    141.132333    147.493667    153.330444    159.113037   \n",
       "std    ...     63.749579     65.511692     64.424009     63.741503   \n",
       "min    ...      0.000000      0.000000      0.000000      0.000000   \n",
       "25%    ...     92.000000     95.000000    103.000000    112.000000   \n",
       "50%    ...    144.000000    162.000000    172.000000    180.000000   \n",
       "75%    ...    196.000000    202.000000    205.000000    207.000000   \n",
       "max    ...    255.000000    255.000000    255.000000    255.000000   \n",
       "\n",
       "           pixel779      pixel780      pixel781      pixel782      pixel783  \\\n",
       "count  27000.000000  27000.000000  27000.000000  27000.000000  27000.000000   \n",
       "mean     161.951370    162.723148    162.884481    161.946407    161.138037   \n",
       "std       63.758663     63.475755     63.540967     63.336766     63.625567   \n",
       "min        0.000000      0.000000      0.000000      0.000000      0.000000   \n",
       "25%      120.000000    125.000000    128.000000    127.000000    128.000000   \n",
       "50%      183.000000    184.000000    184.000000    182.000000    182.000000   \n",
       "75%      208.000000    207.000000    207.000000    206.000000    204.000000   \n",
       "max      255.000000    255.000000    255.000000    255.000000    255.000000   \n",
       "\n",
       "           pixel784  \n",
       "count  27000.000000  \n",
       "mean     159.838444  \n",
       "std       64.408869  \n",
       "min        0.000000  \n",
       "25%      126.000000  \n",
       "50%      182.000000  \n",
       "75%      204.000000  \n",
       "max      255.000000  \n",
       "\n",
       "[8 rows x 785 columns]"
      ]
     },
     "execution_count": 8,
     "metadata": {},
     "output_type": "execute_result"
    }
   ],
   "source": [
    "df_train.info()\n",
    "df_train.describe()"
   ]
  },
  {
   "cell_type": "markdown",
   "metadata": {},
   "source": [
    "- Nhóm dùng hàm df_train.info() để xem số dòng và số cột của dữ liệu: có 27000 dòng và 785 cột(1 cột label, 784 cột giá trị pixel), toàn bộ đều có kiểu int 64. \n",
    "- Nhóm dùng hàm describe() để khảo sát các thuộc tính dạng số này xem như thế nào. Qua khảo sát ta thấy giá trị label trung bình khoảng 12 và giá nhỏ nhất là 0 và cao nhất là 24 và  giá trị các pixel trung bình khoảng từ 140  đến 170  và giá nhỏ nhất là 0 và cao nhất là 255."
   ]
  },
  {
   "cell_type": "code",
   "execution_count": 9,
   "metadata": {},
   "outputs": [
    {
     "data": {
      "text/plain": [
       "label       0.0\n",
       "pixel517    0.0\n",
       "pixel518    0.0\n",
       "pixel519    0.0\n",
       "pixel520    0.0\n",
       "           ... \n",
       "pixel264    0.0\n",
       "pixel265    0.0\n",
       "pixel266    0.0\n",
       "pixel268    0.0\n",
       "pixel784    0.0\n",
       "Length: 785, dtype: float64"
      ]
     },
     "execution_count": 9,
     "metadata": {},
     "output_type": "execute_result"
    }
   ],
   "source": [
    "df_train.isnull().mean().sort_values(ascending=True)"
   ]
  },
  {
   "cell_type": "markdown",
   "metadata": {},
   "source": [
    "dữ liệu này đầy đủ không có thiếu dữ liệu."
   ]
  },
  {
   "cell_type": "markdown",
   "metadata": {},
   "source": [
    "# Hiển thị hình ảnh 1 số mẫu ngẫu nhiên"
   ]
  },
  {
   "cell_type": "code",
   "execution_count": 10,
   "metadata": {},
   "outputs": [],
   "source": [
    "# chia dữ liệu\n",
    "label_df = df_train['label']\n",
    "df_train.drop(['label'], axis = 1, inplace = True)\n",
    "pixel_df= df_train"
   ]
  },
  {
   "cell_type": "markdown",
   "metadata": {},
   "source": [
    "Hiển thị ngẫu nhiên 1 số mẫu(nhãn và giá trị index) của chúng"
   ]
  },
  {
   "cell_type": "code",
   "execution_count": 11,
   "metadata": {},
   "outputs": [
    {
     "data": {
      "image/png": "[encoded data removed]",
      "text/plain": [
       "<Figure size 1224x1224 with 16 Axes>"
      ]
     },
     "metadata": {
      "needs_background": "light"
     },
     "output_type": "display_data"
    }
   ],
   "source": [
    "#xác định giá trị grid\n",
    "W_grid = 4\n",
    "L_grid = 4\n",
    "fig, axes = plt.subplots(L_grid, W_grid,figsize = (17,17))\n",
    "axes = axes.ravel()# chuyển ma trận 15*15 sang mảng 225\n",
    "n_df_train = len(df_train) \n",
    "for i in np.arange(0, W_grid * L_grid): \n",
    "   # lụa chọn index ngẫu nhiên để lấy mẫu ngẫu nhiên\n",
    "    index = np.random.randint(0, n_df_train)    \n",
    "    axes[i].imshow(pixel_df.iloc[[index]].values.reshape((28,28)),cmap=plt.cm.binary )\n",
    "    axes[i].set_title(\"idx: \"+str(index)+\" train %d\" % label_df.iloc[[index]].values , fontsize = 9)\n",
    "    axes[i].axis('off')\n",
    "    \n",
    "plt.subplots_adjust(hspace=0.5)\n",
    "plt.show()"
   ]
  },
  {
   "cell_type": "markdown",
   "metadata": {},
   "source": [
    "Qua phần biểu diễn hình ảnh, nhóm thấy đây là bộ dữ liệu về ngôn ngữ kí hiệu của bàn tay với khoảng 25 kí hiệu được biểu diễn. Mỗi kí hiệu sẽ có nhiều hình ảnh và có nhiều tư thế cùng biểu diễn cho 1 kí hiệu."
   ]
  },
  {
   "cell_type": "code",
   "execution_count": 14,
   "metadata": {},
   "outputs": [
    {
     "data": {
      "text/plain": [
       "17    1263\n",
       "16    1258\n",
       "11    1225\n",
       "22    1206\n",
       "5     1182\n",
       "18    1180\n",
       "14    1180\n",
       "3     1176\n",
       "19    1164\n",
       "8     1147\n",
       "23    1146\n",
       "20    1137\n",
       "13    1131\n",
       "2     1127\n",
       "0     1109\n",
       "24    1100\n",
       "10    1096\n",
       "6     1076\n",
       "15    1067\n",
       "21    1065\n",
       "12    1031\n",
       "7     1001\n",
       "1      998\n",
       "4      935\n",
       "Name: label, dtype: int64"
      ]
     },
     "execution_count": 14,
     "metadata": {},
     "output_type": "execute_result"
    }
   ],
   "source": [
    "label_df.value_counts()"
   ]
  },
  {
   "cell_type": "markdown",
   "metadata": {},
   "source": [
    "Nhóm thấy giá trị nhãn thường xuất hiện nhất là 17 và ít xuất hiện nhất là 4"
   ]
  },
  {
   "cell_type": "markdown",
   "metadata": {},
   "source": [
    "# Tiền xử lý dữ liệu (Data preprocessing)"
   ]
  },
  {
   "cell_type": "code",
   "execution_count": 15,
   "metadata": {},
   "outputs": [
    {
     "data": {
      "text/plain": [
       "((20250, 784), (20250,), (6750, 784), (6750,))"
      ]
     },
     "execution_count": 15,
     "metadata": {},
     "output_type": "execute_result"
    }
   ],
   "source": [
    "# chia tập dữ liệu thành train và test với tỉ lệ test = 0.25\n",
    "train_x, test_x, train_y, test_y = train_test_split(pixel_df, label_df, test_size = 0.25, random_state = 42)\n",
    "#chuẩn hóa\n",
    "X_train = StandardScaler().fit_transform(train_x)\n",
    "X_test=StandardScaler().fit_transform(test_x)\n",
    "train_x.shape, train_y.shape, test_x.shape, test_y.shape\n"
   ]
  },
  {
   "cell_type": "code",
   "execution_count": 16,
   "metadata": {},
   "outputs": [
    {
     "data": {
      "text/plain": [
       "(array([[ 1.41886229,  1.46670769,  1.42971969, ..., -0.49088285,\n",
       "         -0.59959617, -0.64989633],\n",
       "        [-0.36816298, -0.43371338, -0.43789562, ...,  0.11058199,\n",
       "          0.10853321,  0.12648177],\n",
       "        [ 0.09066783,  0.16641959,  0.25286621, ..., -2.01037295,\n",
       "         -1.74833939, -1.90762886],\n",
       "        ...,\n",
       "        [-0.05422611, -0.05863027, -0.02855528, ...,  0.58542264,\n",
       "          0.58061947,  0.56125351],\n",
       "        [ 0.38045571,  0.34145837,  0.30403375, ..., -2.56435372,\n",
       "         -2.53514982, -2.48214866],\n",
       "        [ 0.38045571,  0.36646391,  0.35520129, ...,  0.4113144 ,\n",
       "          0.40752117,  0.40597789]]),\n",
       " array([[ 0.43936666,  0.4287209 ,  0.42047421, ..., -0.09004425,\n",
       "         -1.20969008, -1.95248754],\n",
       "        [ 0.12404463,  0.15258385,  0.13828823, ...,  0.80333938,\n",
       "          0.82621197,  0.84142211],\n",
       "        [-1.11298795, -0.80134414, -0.73392298, ...,  0.45852465,\n",
       "          0.4816747 ,  0.49994426],\n",
       "        ...,\n",
       "        [-0.99171025, -2.28244287, -1.17002859, ..., -1.01477467,\n",
       "         -0.92779595, -0.95909744],\n",
       "        [ 0.53638883,  0.55423774,  0.54874057, ...,  0.22342369,\n",
       "          0.19978057,  0.18950986],\n",
       "        [ 0.24532234,  0.22789396,  0.18959478, ...,  0.44285125,\n",
       "          0.43469235, -0.13644627]]))"
      ]
     },
     "execution_count": 16,
     "metadata": {},
     "output_type": "execute_result"
    }
   ],
   "source": [
    "X_train,X_test"
   ]
  },
  {
   "cell_type": "code",
   "execution_count": 17,
   "metadata": {},
   "outputs": [
    {
     "data": {
      "image/png": "[encoded data removed]",
      "text/plain": [
       "<Figure size 432x288 with 1 Axes>"
      ]
     },
     "metadata": {
      "needs_background": "light"
     },
     "output_type": "display_data"
    },
    {
     "name": "stdout",
     "output_type": "stream",
     "text": [
      "Optimal Solver: newton-cg\n"
     ]
    }
   ],
   "source": [
    "solvers = ['newton-cg', 'lbfgs', 'liblinear', 'sag', 'saga']\n",
    "solver_error = []\n",
    "for solverInstance in solvers:\n",
    "    lg = LogisticRegression(solver=solverInstance, multi_class='auto')\n",
    "    lg.fit(train_x, train_y)\n",
    "    pred=lg.predict(test_x)\n",
    "    error = 1 - lg.score(test_x, test_y)\n",
    "    solver_error.append(error)\n",
    "plt.plot(solvers, solver_error)\n",
    "plt.title('Solver vs. Model Error')\n",
    "plt.xlabel('Solver')\n",
    "plt.ylabel('Error')\n",
    "plt.show()\n",
    "\n",
    "minError = solver_error.index(min(solver_error))\n",
    "bestSolver = solvers[minError]\n",
    "\n",
    "print(\"Optimal Solver: \" + str(bestSolver))"
   ]
  },
  {
   "cell_type": "markdown",
   "metadata": {},
   "source": [
    "Nhóm thấy chọn lựa lg = LogisticRegression(solver = 'newton-cg') là tốt nhất"
   ]
  },
  {
   "cell_type": "code",
   "execution_count": 18,
   "metadata": {},
   "outputs": [],
   "source": [
    "def train (train_x,train_y):\n",
    "    #best model\n",
    "    lg = LogisticRegression(solver = 'newton-cg')\n",
    "    lg.fit(train_x, train_y)\n",
    "    joblib.dump(lg, 'best_saved_logistic')\n",
    "def test (test_x, test_y):\n",
    "    lg = joblib.load('best_saved_logistic')\n",
    "    pred = lg.predict(test_x)\n",
    "    score = lg.score(test_x, test_y)\n",
    "    print(\"Accuracy: \" + str(score*100))\n",
    "    return lg,pred"
   ]
  },
  {
   "cell_type": "code",
   "execution_count": 21,
   "metadata": {},
   "outputs": [
    {
     "name": "stdout",
     "output_type": "stream",
     "text": [
      "              precision    recall  f1-score   support\n",
      "\n",
      "           0       1.00      1.00      1.00       288\n",
      "           1       1.00      1.00      1.00       253\n",
      "           2       1.00      1.00      1.00       308\n",
      "           3       1.00      1.00      1.00       300\n",
      "           4       1.00      1.00      1.00       212\n",
      "           5       1.00      1.00      1.00       293\n",
      "           6       1.00      1.00      1.00       264\n",
      "           7       1.00      1.00      1.00       246\n",
      "           8       1.00      1.00      1.00       270\n",
      "          10       1.00      1.00      1.00       270\n",
      "          11       1.00      1.00      1.00       319\n",
      "          12       1.00      1.00      1.00       238\n",
      "          13       1.00      1.00      1.00       299\n",
      "          14       1.00      1.00      1.00       283\n",
      "          15       1.00      1.00      1.00       257\n",
      "          16       1.00      1.00      1.00       326\n",
      "          17       0.99      1.00      1.00       309\n",
      "          18       1.00      1.00      1.00       290\n",
      "          19       1.00      1.00      1.00       293\n",
      "          20       1.00      1.00      1.00       299\n",
      "          21       0.99      1.00      1.00       264\n",
      "          22       1.00      0.99      1.00       304\n",
      "          23       1.00      1.00      1.00       286\n",
      "          24       1.00      1.00      1.00       279\n",
      "\n",
      "    accuracy                           1.00      6750\n",
      "   macro avg       1.00      1.00      1.00      6750\n",
      "weighted avg       1.00      1.00      1.00      6750\n",
      "\n"
     ]
    }
   ],
   "source": [
    "cm=confusion_matrix(test_y, pred)\n",
    "print(classification_report(test_y, pred))"
   ]
  },
  {
   "cell_type": "code",
   "execution_count": 22,
   "metadata": {},
   "outputs": [
    {
     "data": {
      "image/png": "[encoded data removed]",
      "text/plain": [
       "<Figure size 720x432 with 2 Axes>"
      ]
     },
     "metadata": {
      "needs_background": "light"
     },
     "output_type": "display_data"
    }
   ],
   "source": [
    "# X-axis Predicted vs Y-axis Actual Values\n",
    "score = lg.score(test_x, test_y)\n",
    "plt.subplots(figsize=(10, 6))\n",
    "sns.heatmap(cm, annot = True, fmt = 'g')\n",
    "plt.xlabel(\"Predicted\")\n",
    "plt.ylabel(\"Actual\")\n",
    "plt.title(\"Accuracy: \" + str(score * 100) + \"%\")\n",
    "plt.show()"
   ]
  },
  {
   "cell_type": "code",
   "execution_count": 23,
   "metadata": {},
   "outputs": [
    {
     "data": {
      "text/html": [
       "<div>\n",
       "<style scoped>\n",
       "    .dataframe tbody tr th:only-of-type {\n",
       "        vertical-align: middle;\n",
       "    }\n",
       "\n",
       "    .dataframe tbody tr th {\n",
       "        vertical-align: top;\n",
       "    }\n",
       "\n",
       "    .dataframe thead th {\n",
       "        text-align: right;\n",
       "    }\n",
       "</style>\n",
       "<table border=\"1\" class=\"dataframe\">\n",
       "  <thead>\n",
       "    <tr style=\"text-align: right;\">\n",
       "      <th></th>\n",
       "      <th>% Error rate</th>\n",
       "    </tr>\n",
       "  </thead>\n",
       "  <tbody>\n",
       "    <tr>\n",
       "      <td>0</td>\n",
       "      <td>0.000000</td>\n",
       "    </tr>\n",
       "    <tr>\n",
       "      <td>1</td>\n",
       "      <td>0.000000</td>\n",
       "    </tr>\n",
       "    <tr>\n",
       "      <td>2</td>\n",
       "      <td>0.000000</td>\n",
       "    </tr>\n",
       "    <tr>\n",
       "      <td>3</td>\n",
       "      <td>0.000000</td>\n",
       "    </tr>\n",
       "    <tr>\n",
       "      <td>4</td>\n",
       "      <td>0.000000</td>\n",
       "    </tr>\n",
       "    <tr>\n",
       "      <td>5</td>\n",
       "      <td>0.000000</td>\n",
       "    </tr>\n",
       "    <tr>\n",
       "      <td>6</td>\n",
       "      <td>0.378788</td>\n",
       "    </tr>\n",
       "    <tr>\n",
       "      <td>7</td>\n",
       "      <td>0.000000</td>\n",
       "    </tr>\n",
       "    <tr>\n",
       "      <td>8</td>\n",
       "      <td>0.000000</td>\n",
       "    </tr>\n",
       "    <tr>\n",
       "      <td>9</td>\n",
       "      <td>0.000000</td>\n",
       "    </tr>\n",
       "    <tr>\n",
       "      <td>10</td>\n",
       "      <td>0.000000</td>\n",
       "    </tr>\n",
       "    <tr>\n",
       "      <td>11</td>\n",
       "      <td>0.000000</td>\n",
       "    </tr>\n",
       "    <tr>\n",
       "      <td>12</td>\n",
       "      <td>0.000000</td>\n",
       "    </tr>\n",
       "    <tr>\n",
       "      <td>13</td>\n",
       "      <td>0.000000</td>\n",
       "    </tr>\n",
       "    <tr>\n",
       "      <td>14</td>\n",
       "      <td>0.389105</td>\n",
       "    </tr>\n",
       "    <tr>\n",
       "      <td>15</td>\n",
       "      <td>0.000000</td>\n",
       "    </tr>\n",
       "    <tr>\n",
       "      <td>16</td>\n",
       "      <td>0.000000</td>\n",
       "    </tr>\n",
       "    <tr>\n",
       "      <td>17</td>\n",
       "      <td>0.000000</td>\n",
       "    </tr>\n",
       "    <tr>\n",
       "      <td>18</td>\n",
       "      <td>0.000000</td>\n",
       "    </tr>\n",
       "    <tr>\n",
       "      <td>19</td>\n",
       "      <td>0.000000</td>\n",
       "    </tr>\n",
       "    <tr>\n",
       "      <td>20</td>\n",
       "      <td>0.000000</td>\n",
       "    </tr>\n",
       "    <tr>\n",
       "      <td>21</td>\n",
       "      <td>0.986842</td>\n",
       "    </tr>\n",
       "    <tr>\n",
       "      <td>22</td>\n",
       "      <td>0.000000</td>\n",
       "    </tr>\n",
       "    <tr>\n",
       "      <td>23</td>\n",
       "      <td>0.000000</td>\n",
       "    </tr>\n",
       "  </tbody>\n",
       "</table>\n",
       "</div>"
      ],
      "text/plain": [
       "    % Error rate\n",
       "0       0.000000\n",
       "1       0.000000\n",
       "2       0.000000\n",
       "3       0.000000\n",
       "4       0.000000\n",
       "5       0.000000\n",
       "6       0.378788\n",
       "7       0.000000\n",
       "8       0.000000\n",
       "9       0.000000\n",
       "10      0.000000\n",
       "11      0.000000\n",
       "12      0.000000\n",
       "13      0.000000\n",
       "14      0.389105\n",
       "15      0.000000\n",
       "16      0.000000\n",
       "17      0.000000\n",
       "18      0.000000\n",
       "19      0.000000\n",
       "20      0.000000\n",
       "21      0.986842\n",
       "22      0.000000\n",
       "23      0.000000"
      ]
     },
     "execution_count": 23,
     "metadata": {},
     "output_type": "execute_result"
    }
   ],
   "source": [
    "def error_rate(confusion_matrix):\n",
    "    a = confusion_matrix\n",
    "    b = a.sum(axis=1)\n",
    "    df = []\n",
    "    for i in range(0,24):\n",
    "        temp = 1-a[i][i]/b[i]\n",
    "        df.append(temp)\n",
    "    \n",
    "    df = pd.DataFrame(df)\n",
    "    df.columns = ['% Error rate']\n",
    "    return df*100\n",
    "\n",
    "error_rate(cm)"
   ]
  },
  {
   "cell_type": "code",
   "execution_count": 26,
   "metadata": {},
   "outputs": [
    {
     "data": {
      "image/png": "[encoded data removed]",
      "text/plain": [
       "<Figure size 144x144 with 1 Axes>"
      ]
     },
     "metadata": {
      "needs_background": "light"
     },
     "output_type": "display_data"
    },
    {
     "data": {
      "image/png": "[encoded data removed]",
      "text/plain": [
       "<Figure size 144x144 with 1 Axes>"
      ]
     },
     "metadata": {
      "needs_background": "light"
     },
     "output_type": "display_data"
    },
    {
     "data": {
      "image/png": "[encoded data removed]",
      "text/plain": [
       "<Figure size 144x144 with 1 Axes>"
      ]
     },
     "metadata": {
      "needs_background": "light"
     },
     "output_type": "display_data"
    },
    {
     "data": {
      "image/png": "[encoded data removed]",
      "text/plain": [
       "<Figure size 144x144 with 1 Axes>"
      ]
     },
     "metadata": {
      "needs_background": "light"
     },
     "output_type": "display_data"
    },
    {
     "data": {
      "image/png": "[encoded data removed]",
      "text/plain": [
       "<Figure size 144x144 with 1 Axes>"
      ]
     },
     "metadata": {
      "needs_background": "light"
     },
     "output_type": "display_data"
    },
    {
     "data": {
      "image/png": "[encoded data removed]",
      "text/plain": [
       "<Figure size 144x144 with 1 Axes>"
      ]
     },
     "metadata": {
      "needs_background": "light"
     },
     "output_type": "display_data"
    },
    {
     "data": {
      "image/png": "[encoded data removed]",
      "text/plain": [
       "<Figure size 144x144 with 1 Axes>"
      ]
     },
     "metadata": {
      "needs_background": "light"
     },
     "output_type": "display_data"
    },
    {
     "data": {
      "image/png": "[encoded data removed]",
      "text/plain": [
       "<Figure size 144x144 with 1 Axes>"
      ]
     },
     "metadata": {
      "needs_background": "light"
     },
     "output_type": "display_data"
    },
    {
     "data": {
      "image/png": "[encoded data removed]",
      "text/plain": [
       "<Figure size 144x144 with 1 Axes>"
      ]
     },
     "metadata": {
      "needs_background": "light"
     },
     "output_type": "display_data"
    },
    {
     "data": {
      "image/png": "[encoded data removed]",
      "text/plain": [
       "<Figure size 144x144 with 1 Axes>"
      ]
     },
     "metadata": {
      "needs_background": "light"
     },
     "output_type": "display_data"
    }
   ],
   "source": [
    "index_OK=0\n",
    "m_OK=[]\n",
    "for label, predict in zip(test_y, pred):\n",
    "    if label == predict:\n",
    "        m_OK.append(index_OK)\n",
    "    index_OK+=1\n",
    "\n",
    "#OK predictions\n",
    "import random\n",
    "random.shuffle(m_OK)\n",
    "for plotIndex, badIndex in enumerate(m_OK[0:10]):\n",
    "    plt.figure(figsize=(2,2))\n",
    "    image = test_x.iloc[[badIndex]].values.reshape((28,28))\n",
    "    imgplot = plt.imshow(image,cmap=plt.cm.gray)\n",
    "    plt.title(\"ID: \"+ \n",
    "              str(m_OK[badIndex]) +\" Predicted: \" + \n",
    "              str(pred[badIndex]) + \", Actual: \" + \n",
    "              str(test_y.iloc[[badIndex]].values))\n",
    "    plt.plot()"
   ]
  },
  {
   "cell_type": "code",
   "execution_count": null,
   "metadata": {},
   "outputs": [],
   "source": []
  }
 ],
 "metadata": {
  "kernelspec": {
   "display_name": "Python 3",
   "language": "python",
   "name": "python3"
  },
  "language_info": {
   "codemirror_mode": {
    "name": "ipython",
    "version": 3
   },
   "file_extension": ".py",
   "mimetype": "text/x-python",
   "name": "python",
   "nbconvert_exporter": "python",
   "pygments_lexer": "ipython3",
   "version": "3.7.4"
  }
 },
 "nbformat": 4,
 "nbformat_minor": 4
}
